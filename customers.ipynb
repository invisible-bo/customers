{
 "cells": [
  {
   "cell_type": "code",
   "execution_count": 198,
   "metadata": {},
   "outputs": [],
   "source": [
    "import pandas as pd"
   ]
  },
  {
   "cell_type": "code",
   "execution_count": 199,
   "metadata": {},
   "outputs": [
    {
     "name": "stdout",
     "output_type": "stream",
     "text": [
      "     CustomerID  Gender  Age  Annual Income (k$)  Spending Score (1-100)\n",
      "0             1    Male   19                  15                      39\n",
      "1             2    Male   21                  15                      81\n",
      "2             3  Female   20                  16                       6\n",
      "3             4  Female   23                  16                      77\n",
      "4             5  Female   31                  17                      40\n",
      "..          ...     ...  ...                 ...                     ...\n",
      "195         196  Female   35                 120                      79\n",
      "196         197  Female   45                 126                      28\n",
      "197         198    Male   32                 126                      74\n",
      "198         199    Male   32                 137                      18\n",
      "199         200    Male   30                 137                      83\n",
      "\n",
      "[200 rows x 5 columns]\n"
     ]
    }
   ],
   "source": [
    "customer_df = pd.read_csv('Mall_Customers.csv')\n",
    "print(customer_df)"
   ]
  },
  {
   "cell_type": "markdown",
   "metadata": {},
   "source": [
    "Annual Income (k$)\n",
    "- 고객의 연간 소득을 1,000달러 단위로 나타낸 값\n",
    "  예를 들어, 값이 15라면 해당 고객의 연간 소득은 15,000달러를 의미\n",
    "- 고소득과 저소득 고객을 구분하여 다른 마케팅 전략을 수립하는 데 유용\n",
    "\n",
    "Spending Score (1-100)\n",
    "- 쇼핑몰에서 고객의 소비 성향을 1에서 100 사이의 점수로 나타낸 값\n",
    "  점수가 높을수록 고객의 소비가 활발하거나 구매 가능성이 높음을 의미\n",
    "- 소비 성향이 높은 고객(고득점)과 낮은 고객(저득점)을 구분하여 마케팅 캠페인을 타겟팅할 수 있다"
   ]
  },
  {
   "cell_type": "code",
   "execution_count": 200,
   "metadata": {},
   "outputs": [
    {
     "name": "stdout",
     "output_type": "stream",
     "text": [
      "CustomerID                0\n",
      "Gender                    0\n",
      "Age                       0\n",
      "Annual Income (k$)        0\n",
      "Spending Score (1-100)    0\n",
      "dtype: int64\n"
     ]
    }
   ],
   "source": [
    "print(customer_df.isnull().sum()) #결측값 확인"
   ]
  },
  {
   "cell_type": "markdown",
   "metadata": {},
   "source": [
    "데이터프레임화가 필요한 이유\n",
    "- **가독성**\n",
    "표준화된 data를 Numpy배열로 유지하면 변수 이름이 없어서 어떤 값이 변수인지 알기 어렵다.\n",
    "- **data 병합**\n",
    "기존의 DataFrame과 표준화된 Data를 병합하거나, 기존 DataFrame을 대체하려면 데이터프레임화가 유용하다.\n",
    "- **분석 편의성**\n",
    "DataFrame은 Pandas의 다양한 기능(ex:필터링, 집계, 시각화)을 활용할 수 있어 작업이 편리하다."
   ]
  },
  {
   "cell_type": "code",
   "execution_count": 201,
   "metadata": {},
   "outputs": [],
   "source": [
    "# z-score기반 이상치 탐지\n",
    "from scipy.stats import zscore\n",
    "\n",
    "# Z-Score 계산\n",
    "z_scores = zscore(customer_df[['Annual Income (k$)', 'Spending Score (1-100)']])\n",
    "\n",
    "# 이상치 탐지\n",
    "customer_df_cleaned = customer_df[(abs(z_scores) < 3).all(axis=1)]"
   ]
  },
  {
   "cell_type": "code",
   "execution_count": 202,
   "metadata": {},
   "outputs": [
    {
     "name": "stdout",
     "output_type": "stream",
     "text": [
      "Empty DataFrame\n",
      "Columns: [CustomerID, Gender, Age, Annual Income (k$), Spending Score (1-100)]\n",
      "Index: []\n"
     ]
    }
   ],
   "source": [
    "# 이상치 필터링 (Z-Score 절대값이 3 이상인 데이터를 이상치로 간주)\n",
    "outliers = customer_df[(abs(z_scores) >= 3).any(axis=1)]\n",
    "\n",
    "# 이상치 데이터 출력\n",
    "print(outliers)"
   ]
  },
  {
   "cell_type": "code",
   "execution_count": 203,
   "metadata": {},
   "outputs": [
    {
     "name": "stdout",
     "output_type": "stream",
     "text": [
      "     CustomerID Gender  Age  Annual Income (k$)  Spending Score (1-100)\n",
      "198         199   Male   32                 137                      18\n",
      "199         200   Male   30                 137                      83\n"
     ]
    }
   ],
   "source": [
    "# 이상치 탐지\n",
    "customer_df_cleaned = customer_df[(abs(z_scores) < 2.5).all(axis=1)]\n",
    "# 이상치 필터링 (Z-Score 절대값이 2.5 이상인 데이터를 이상치로 간주)\n",
    "outliers = customer_df[(abs(z_scores) >= 2.5).any(axis=1)]\n",
    "# 이상치 데이터 출력\n",
    "print(outliers)"
   ]
  },
  {
   "cell_type": "code",
   "execution_count": 204,
   "metadata": {},
   "outputs": [],
   "source": [
    "# 해당되는 두개의 data 이상치 제거\n",
    "customer_df_cleaned = customer_df[(abs(z_scores) < 2.5).all(axis=1)]"
   ]
  },
  {
   "cell_type": "code",
   "execution_count": 205,
   "metadata": {},
   "outputs": [],
   "source": [
    "# 표준화 선택\n",
    "from sklearn.preprocessing import StandardScaler\n",
    "# StandardScaler 객체 생성\n",
    "scaler = StandardScaler()\n",
    "# 데이터 표준화 \n",
    "scaled_data = scaler.fit_transform(customer_df_cleaned[['Annual Income (k$)', 'Spending Score (1-100)']])"
   ]
  },
  {
   "cell_type": "code",
   "execution_count": 206,
   "metadata": {},
   "outputs": [],
   "source": [
    "# 표준화된 데이터 데이터프레임으로 변환\n",
    "standardized_df = pd.DataFrame(scaled_data, columns=['Annual Income (k$)_standardized', 'Spending Score (1-100)_standardized'])"
   ]
  }
 ],
 "metadata": {
  "kernelspec": {
   "display_name": "Python 3",
   "language": "python",
   "name": "python3"
  },
  "language_info": {
   "codemirror_mode": {
    "name": "ipython",
    "version": 3
   },
   "file_extension": ".py",
   "mimetype": "text/x-python",
   "name": "python",
   "nbconvert_exporter": "python",
   "pygments_lexer": "ipython3",
   "version": "3.13.0"
  }
 },
 "nbformat": 4,
 "nbformat_minor": 2
}
